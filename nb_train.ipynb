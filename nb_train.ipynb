{
 "cells": [
  {
   "cell_type": "code",
   "execution_count": 1,
   "metadata": {},
   "outputs": [
    {
     "name": "stderr",
     "output_type": "stream",
     "text": [
      "/cronus_data/rrao/conda_envs/speech/lib/python3.10/site-packages/tqdm/auto.py:21: TqdmWarning: IProgress not found. Please update jupyter and ipywidgets. See https://ipywidgets.readthedocs.io/en/stable/user_install.html\n",
      "  from .autonotebook import tqdm as notebook_tqdm\n",
      "/cronus_data/rrao/conda_envs/speech/lib/python3.10/site-packages/transformers/utils/hub.py:127: FutureWarning: Using `TRANSFORMERS_CACHE` is deprecated and will be removed in v5 of Transformers. Use `HF_HOME` instead.\n",
      "  warnings.warn(\n"
     ]
    }
   ],
   "source": [
    "import os\n",
    "import pandas as pd\n",
    "import torch\n",
    "import torch.nn.functional as F\n",
    "from tqdm import tqdm\n",
    "from collections import OrderedDict\n",
    "from pprint import pprint\n",
    "\n",
    "from train import load_models, train\n",
    "from utils import WhiSBERTConfig, AudioDataset, collate\n",
    "\n",
    "CACHE_DIR = '/cronus_data/rrao/cache'\n",
    "CHECKPOINT_DIR = '/cronus_data/rrao/WhisBERT/models/'"
   ]
  },
  {
   "cell_type": "code",
   "execution_count": 2,
   "metadata": {},
   "outputs": [
    {
     "name": "stderr",
     "output_type": "stream",
     "text": [
      "/cronus_data/rrao/conda_envs/speech/lib/python3.10/site-packages/transformers/tokenization_utils_base.py:1601: FutureWarning: `clean_up_tokenization_spaces` was not set. It will be set to `True` by default. This behavior will be depracted in transformers v4.45, and will be then set to `False` by default. For more details check this issue: https://github.com/huggingface/transformers/issues/31884\n",
      "  warnings.warn(\n"
     ]
    },
    {
     "name": "stdout",
     "output_type": "stream",
     "text": [
      "\n",
      "Available GPU IDs: [0, 1, 2, 3]\n",
      "\tGPU 0: NVIDIA RTX A6000\n",
      "\tGPU 1: NVIDIA RTX A6000\n",
      "\tGPU 2: NVIDIA RTX A6000\n",
      "\tGPU 3: NVIDIA RTX A6000\n",
      "\n"
     ]
    }
   ],
   "source": [
    "load_path = ''\n",
    "save_name = ''\n",
    "config = WhiSBERTConfig(pooling_mode='cls', use_sbert_layers=False, batch_size=8, device='cuda')\n",
    "processor, whisbert, sbert = load_models(config, load_path)"
   ]
  },
  {
   "cell_type": "code",
   "execution_count": 3,
   "metadata": {},
   "outputs": [
    {
     "name": "stdout",
     "output_type": "stream",
     "text": [
      "Preprocessing AudioDataset...\n",
      "\tTotal dataset size (N): 15518\n",
      "\tTraining dataset size (N): 12414\n",
      "\tValidation dataset size (N): 3104\n"
     ]
    }
   ],
   "source": [
    "print('Preprocessing AudioDataset...')\n",
    "dataset = AudioDataset('/cronus_data/rrao/wtc_clinic/whisper_segments_transripts.csv', processor)\n",
    "mini_size = int(0.1 * len(dataset))\n",
    "drop_size = len(dataset) - mini_size\n",
    "mini_dataset, _ = torch.utils.data.random_split(dataset, [mini_size, drop_size])\n",
    "\n",
    "# Calculate lengths for the train/val split (80:20)\n",
    "total_size = len(mini_dataset)\n",
    "train_size = int(0.8 * total_size)  # 80% for training\n",
    "val_size = total_size - train_size  # 20% for validation\n",
    "# Perform the split\n",
    "train_dataset, val_dataset = torch.utils.data.random_split(mini_dataset, [train_size, val_size])\n",
    "print(f'\\tTotal dataset size (N): {total_size}')\n",
    "print(f'\\tTraining dataset size (N): {train_size}')\n",
    "print(f'\\tValidation dataset size (N): {val_size}')"
   ]
  },
  {
   "cell_type": "code",
   "execution_count": 4,
   "metadata": {},
   "outputs": [],
   "source": [
    "data_loader = torch.utils.data.DataLoader(\n",
    "    val_dataset,\n",
    "    batch_size=config.batch_size,\n",
    "    num_workers=config.num_workers,\n",
    "    shuffle=config.shuffle,\n",
    "    collate_fn=collate\n",
    ")"
   ]
  },
  {
   "cell_type": "code",
   "execution_count": 5,
   "metadata": {},
   "outputs": [
    {
     "name": "stdout",
     "output_type": "stream",
     "text": [
      "torch.Size([8, 80, 3000])\n",
      "8\n"
     ]
    }
   ],
   "source": [
    "batch = next(iter(data_loader))\n",
    "print(batch['audio_inputs'].shape)\n",
    "print(len(batch['text']))"
   ]
  },
  {
   "cell_type": "code",
   "execution_count": 14,
   "metadata": {},
   "outputs": [
    {
     "name": "stdout",
     "output_type": "stream",
     "text": [
      "here\n"
     ]
    },
    {
     "data": {
      "text/plain": [
       "tensor([[ 0.0650, -0.0318,  0.0308,  ..., -0.0022, -0.0055, -0.0334],\n",
       "        [ 0.0121,  0.0264,  0.0174,  ...,  0.0414, -0.0145, -0.0559],\n",
       "        [ 0.0674,  0.0181,  0.0026,  ...,  0.0015,  0.0401, -0.0405],\n",
       "        ...,\n",
       "        [-0.0227, -0.0337,  0.0067,  ..., -0.0138,  0.0184, -0.0350],\n",
       "        [ 0.0160, -0.0176, -0.0094,  ...,  0.0034, -0.0264, -0.0017],\n",
       "        [ 0.0576, -0.0430, -0.0356,  ..., -0.0485, -0.0295,  0.0043]],\n",
       "       device='cuda:0')"
      ]
     },
     "execution_count": 14,
     "metadata": {},
     "output_type": "execute_result"
    }
   ],
   "source": [
    "# Get SBERT CLS/MEAN token\n",
    "if isinstance(sbert, torch.nn.DataParallel):\n",
    "    sbert_embs = torch.tensor(sbert.module.encode(batch['text']), device=config.device)\n",
    "else:\n",
    "    sbert_embs = torch.tensor(sbert.encode(batch['text']), device=config.device)\n",
    "\n",
    "sbert_embs"
   ]
  },
  {
   "cell_type": "code",
   "execution_count": 7,
   "metadata": {},
   "outputs": [],
   "source": [
    "def compare_model_states(before, after):\n",
    "    changes = []\n",
    "    for key in before:\n",
    "        if not torch.equal(before[key], after[key]):\n",
    "            changes.append(key)\n",
    "    return changes"
   ]
  },
  {
   "cell_type": "code",
   "execution_count": 8,
   "metadata": {},
   "outputs": [
    {
     "name": "stderr",
     "output_type": "stream",
     "text": [
      "/cronus_data/rrao/conda_envs/speech/lib/python3.10/site-packages/torch/optim/lr_scheduler.py:60: UserWarning: The verbose parameter is deprecated. Please use get_last_lr() to access the learning rate.\n",
      "  warnings.warn(\n"
     ]
    },
    {
     "name": "stdout",
     "output_type": "stream",
     "text": [
      "\n",
      "Starting Training...\n"
     ]
    },
    {
     "name": "stderr",
     "output_type": "stream",
     "text": [
      "Epoch 1/1 - Training:   0%|          | 0/64 [00:00<?, ?it/s]Passing a tuple of `past_key_values` is deprecated and will be removed in Transformers v4.43.0. You should pass an instance of `EncoderDecoderCache` instead, e.g. `past_key_values=EncoderDecoderCache.from_legacy_cache(past_key_values)`.\n",
      "Epoch 1/1 - Training: 100%|██████████| 64/64 [01:52<00:00,  1.75s/it]\n",
      "Epoch 1/1 - Validation: 100%|██████████| 16/16 [00:16<00:00,  1.05s/it]"
     ]
    },
    {
     "name": "stdout",
     "output_type": "stream",
     "text": [
      "Epoch 1/1\n",
      "\tTraining Loss: 9989.1831\n",
      "\tValidation Loss: 351.5404\n",
      "\tLearning Rate: 5e-05\n"
     ]
    },
    {
     "name": "stderr",
     "output_type": "stream",
     "text": [
      "\n"
     ]
    }
   ],
   "source": [
    "before_state = OrderedDict({name: param.clone() for name, param in whisbert.state_dict().items()})\n",
    "\n",
    "print('\\nStarting Training...')\n",
    "train(\n",
    "    train_dataset,\n",
    "    val_dataset,\n",
    "    processor,\n",
    "    whisbert,\n",
    "    sbert,\n",
    "    config,\n",
    "    save_name\n",
    ")\n",
    "\n",
    "after_state = OrderedDict({name: param.clone() for name, param in whisbert.state_dict().items()})"
   ]
  },
  {
   "cell_type": "code",
   "execution_count": 9,
   "metadata": {},
   "outputs": [
    {
     "name": "stdout",
     "output_type": "stream",
     "text": [
      "Parameter types changed: 478\n"
     ]
    }
   ],
   "source": [
    "changed_parameters = compare_model_states(before_state, after_state)\n",
    "print(f\"Parameter types changed: {len(changed_parameters)}\")"
   ]
  },
  {
   "cell_type": "code",
   "execution_count": 10,
   "metadata": {},
   "outputs": [
    {
     "name": "stdout",
     "output_type": "stream",
     "text": [
      "tensor([[ 0.0107,  0.0136, -0.0111,  ...,  0.0122, -0.0311,  0.0051],\n",
      "        [ 0.0085, -0.0050,  0.0219,  ...,  0.0007,  0.0348,  0.0010],\n",
      "        [-0.0233,  0.0094,  0.0208,  ...,  0.0222, -0.0020,  0.0298],\n",
      "        ...,\n",
      "        [ 0.0050, -0.0530, -0.0053,  ...,  0.0317,  0.0212, -0.0889],\n",
      "        [ 0.0296,  0.0020, -0.0041,  ..., -0.0171,  0.0079, -0.0177],\n",
      "        [ 0.0023,  0.0196, -0.0061,  ..., -0.0279,  0.0132, -0.0052]],\n",
      "       device='cuda:0')\n",
      "tensor([[ 0.0110,  0.0135, -0.0110,  ...,  0.0121, -0.0312,  0.0046],\n",
      "        [ 0.0082, -0.0052,  0.0219,  ...,  0.0006,  0.0348,  0.0017],\n",
      "        [-0.0236,  0.0092,  0.0208,  ...,  0.0221, -0.0019,  0.0306],\n",
      "        ...,\n",
      "        [ 0.0048, -0.0530, -0.0050,  ...,  0.0315,  0.0210, -0.0887],\n",
      "        [ 0.0292,  0.0021, -0.0037,  ..., -0.0174,  0.0076, -0.0174],\n",
      "        [ 0.0020,  0.0197, -0.0058,  ..., -0.0281,  0.0130, -0.0050]],\n",
      "       device='cuda:0')\n"
     ]
    }
   ],
   "source": [
    "print(before_state['module.whisper_model.decoder.layers.0.encoder_attn.k_proj.weight'])\n",
    "print(after_state['module.whisper_model.decoder.layers.0.encoder_attn.k_proj.weight'])"
   ]
  },
  {
   "cell_type": "code",
   "execution_count": 11,
   "metadata": {},
   "outputs": [
    {
     "name": "stdout",
     "output_type": "stream",
     "text": [
      "\n",
      "Saving `best/last` WhisBERT state_dict...\n",
      "\tDone.\t`/cronus_data/rrao/WhisBERT/models/test/best.pth`\n",
      "\n",
      "\tDone.\t`/cronus_data/rrao/WhisBERT/models/test/last.pth`\n",
      "\n"
     ]
    }
   ],
   "source": [
    "if save_name:\n",
    "    print(f'\\nSaving `best/last` WhisBERT state_dict...')        \n",
    "    save_dir = os.path.join(CHECKPOINT_DIR, save_name)\n",
    "    os.makedirs(save_dir, exist_ok=True)\n",
    "\n",
    "    best_path = os.path.join(save_dir, 'best.pth')\n",
    "    torch.save(best_state, best_path)\n",
    "    print(f'\\tDone.\\t`{best_path}`\\n')\n",
    "\n",
    "    last_path = os.path.join(save_dir, 'last.pth')\n",
    "    torch.save(whisbert_model.state_dict(), last_path)\n",
    "    print(f'\\tDone.\\t`{last_path}`\\n')\n",
    "\n",
    "torch.cuda.empty_cache()"
   ]
  },
  {
   "cell_type": "code",
   "execution_count": 12,
   "metadata": {},
   "outputs": [
    {
     "name": "stderr",
     "output_type": "stream",
     "text": [
      "/cronus_data/rrao/conda_envs/speech/lib/python3.10/site-packages/transformers/tokenization_utils_base.py:1601: FutureWarning: `clean_up_tokenization_spaces` was not set. It will be set to `True` by default. This behavior will be depracted in transformers v4.45, and will be then set to `False` by default. For more details check this issue: https://github.com/huggingface/transformers/issues/31884\n",
      "  warnings.warn(\n",
      "Some weights of RobertaModel were not initialized from the model checkpoint at FacebookAI/roberta-base and are newly initialized: ['roberta.pooler.dense.bias', 'roberta.pooler.dense.weight']\n",
      "You should probably TRAIN this model on a down-stream task to be able to use it for predictions and inference.\n"
     ]
    },
    {
     "name": "stdout",
     "output_type": "stream",
     "text": [
      "\n",
      "Available GPU IDs: [0, 1, 2, 3]\n",
      "\tGPU 0: NVIDIA RTX A6000\n",
      "\tGPU 1: NVIDIA RTX A6000\n",
      "\tGPU 2: NVIDIA RTX A6000\n",
      "\tGPU 3: NVIDIA RTX A6000\n",
      "\n",
      "Instantiating WhisBERT with loaded state dict...\n"
     ]
    },
    {
     "name": "stderr",
     "output_type": "stream",
     "text": [
      "/home/rrao/workspace/WhisBERT/train.py:212: FutureWarning: You are using `torch.load` with `weights_only=False` (the current default value), which uses the default pickle module implicitly. It is possible to construct malicious pickle data which will execute arbitrary code during unpickling (See https://github.com/pytorch/pytorch/blob/main/SECURITY.md#untrusted-models for more details). In a future release, the default value for `weights_only` will be flipped to `True`. This limits the functions that could be executed during unpickling. Arbitrary objects will no longer be allowed to be loaded via this mode unless they are explicitly allowlisted by the user via `torch.serialization.add_safe_globals`. We recommend you start setting `weights_only=True` for any use case where you don't have full control of the loaded file. Please open an issue on GitHub for any issues related to this experimental feature.\n",
      "  state_dict = torch.load(load_path)\n"
     ]
    },
    {
     "name": "stdout",
     "output_type": "stream",
     "text": [
      "tensor([[ 0.0110,  0.0135, -0.0110,  ...,  0.0121, -0.0312,  0.0046],\n",
      "        [ 0.0082, -0.0052,  0.0219,  ...,  0.0006,  0.0348,  0.0017],\n",
      "        [-0.0236,  0.0092,  0.0208,  ...,  0.0221, -0.0019,  0.0306],\n",
      "        ...,\n",
      "        [ 0.0048, -0.0530, -0.0050,  ...,  0.0315,  0.0210, -0.0887],\n",
      "        [ 0.0292,  0.0021, -0.0037,  ..., -0.0174,  0.0076, -0.0174],\n",
      "        [ 0.0020,  0.0197, -0.0058,  ..., -0.0281,  0.0130, -0.0050]],\n",
      "       device='cuda:0')\n"
     ]
    }
   ],
   "source": [
    "config = WhisBERTConfig(use_new_encoder_layers=False, batch_size=196, num_workers=12, device='cuda')\n",
    "_, last_model, _, _ = load_models(config, '/cronus_data/rrao/WhisBERT/models/test/last.pth')\n",
    "print(last_model.state_dict()['module.whisper_model.decoder.layers.0.encoder_attn.k_proj.weight'])"
   ]
  },
  {
   "cell_type": "code",
   "execution_count": 13,
   "metadata": {},
   "outputs": [
    {
     "name": "stderr",
     "output_type": "stream",
     "text": [
      "Some weights of RobertaModel were not initialized from the model checkpoint at FacebookAI/roberta-base and are newly initialized: ['roberta.pooler.dense.bias', 'roberta.pooler.dense.weight']\n",
      "You should probably TRAIN this model on a down-stream task to be able to use it for predictions and inference.\n"
     ]
    },
    {
     "name": "stdout",
     "output_type": "stream",
     "text": [
      "\n",
      "Available GPU IDs: [0, 1, 2, 3]\n",
      "\tGPU 0: NVIDIA RTX A6000\n",
      "\tGPU 1: NVIDIA RTX A6000\n",
      "\tGPU 2: NVIDIA RTX A6000\n",
      "\tGPU 3: NVIDIA RTX A6000\n",
      "\n",
      "Instantiating WhisBERT with loaded state dict...\n",
      "tensor([[ 0.0107,  0.0136, -0.0111,  ...,  0.0122, -0.0311,  0.0051],\n",
      "        [ 0.0085, -0.0050,  0.0219,  ...,  0.0007,  0.0348,  0.0010],\n",
      "        [-0.0233,  0.0094,  0.0208,  ...,  0.0222, -0.0020,  0.0298],\n",
      "        ...,\n",
      "        [ 0.0050, -0.0530, -0.0053,  ...,  0.0317,  0.0212, -0.0889],\n",
      "        [ 0.0296,  0.0020, -0.0041,  ..., -0.0171,  0.0079, -0.0177],\n",
      "        [ 0.0023,  0.0196, -0.0061,  ..., -0.0279,  0.0132, -0.0052]],\n",
      "       device='cuda:0')\n"
     ]
    }
   ],
   "source": [
    "config = WhisBERTConfig(use_new_encoder_layers=False, batch_size=196, num_workers=12, device='cuda')\n",
    "_, best_model, _, _ = load_models(config, '/cronus_data/rrao/WhisBERT/models/test/best.pth')\n",
    "print(best_model.state_dict()['module.whisper_model.decoder.layers.0.encoder_attn.k_proj.weight'])"
   ]
  }
 ],
 "metadata": {
  "kernelspec": {
   "display_name": "speech",
   "language": "python",
   "name": "python3"
  },
  "language_info": {
   "codemirror_mode": {
    "name": "ipython",
    "version": 3
   },
   "file_extension": ".py",
   "mimetype": "text/x-python",
   "name": "python",
   "nbconvert_exporter": "python",
   "pygments_lexer": "ipython3",
   "version": "3.10.14"
  }
 },
 "nbformat": 4,
 "nbformat_minor": 2
}
