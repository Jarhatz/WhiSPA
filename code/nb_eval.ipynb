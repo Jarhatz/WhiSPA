{
 "cells": [
  {
   "cell_type": "code",
   "execution_count": null,
   "metadata": {},
   "outputs": [],
   "source": [
    "import time\n",
    "from datetime import timedelta\n",
    "import os\n",
    "import argparse\n",
    "import torch\n",
    "import torch.nn.functional as F\n",
    "from transformers import (\n",
    "    AutoTokenizer,\n",
    "    AutoModel,\n",
    "    WhisperProcessor\n",
    ")\n",
    "from sentence_transformers import SentenceTransformer\n",
    "from collections import OrderedDict\n",
    "from tqdm import tqdm\n",
    "from matplotlib import pyplot as plt\n",
    "from pprint import pprint\n",
    "\n",
    "from config import WhiSBERTConfig, CACHE_DIR, CHECKPOINT_DIR\n",
    "from model import WhiSBERTModel\n",
    "from data import AudioDataset, collate\n",
    "from train import load_models\n",
    "from utils import (\n",
    "    mean_pooling,\n",
    "    cos_sim_loss,\n",
    "    sim_clr_loss,\n",
    "    norm_temp_ce_loss\n",
    ")\n",
    "\n",
    "\n",
    "os.environ[\"TOKENIZERS_PARALLELISM\"] = \"false\"\n",
    "BASE_DIR = os.path.join(os.path.dirname(os.path.abspath(__file__)), '..')"
   ]
  },
  {
   "cell_type": "code",
   "execution_count": null,
   "metadata": {},
   "outputs": [
    {
     "name": "stderr",
     "output_type": "stream",
     "text": [
      "/cronus_data/rrao/conda_envs/speech/lib/python3.10/site-packages/transformers/tokenization_utils_base.py:1601: FutureWarning: `clean_up_tokenization_spaces` was not set. It will be set to `True` by default. This behavior will be depracted in transformers v4.45, and will be then set to `False` by default. For more details check this issue: https://github.com/huggingface/transformers/issues/31884\n",
      "  warnings.warn(\n"
     ]
    },
    {
     "name": "stdout",
     "output_type": "stream",
     "text": [
      "\n",
      "Available GPU IDs: [0, 1, 2, 3]\n",
      "\tGPU 0: NVIDIA RTX A6000\n",
      "\tGPU 1: NVIDIA RTX A6000\n",
      "\tGPU 2: NVIDIA RTX A6000\n",
      "\tGPU 3: NVIDIA RTX A6000\n",
      "\n"
     ]
    }
   ],
   "source": [
    "config = WhiSBERTConfig(pooling_mode='mean', use_sbert_layers=False, batch_size=8, device='cuda')\n",
    "processor, _, _ = load_models(config, '')"
   ]
  },
  {
   "cell_type": "code",
   "execution_count": 17,
   "metadata": {},
   "outputs": [
    {
     "name": "stdout",
     "output_type": "stream",
     "text": [
      "Preprocessing AudioDataset...\n",
      "\tTotal dataset size (N): 15518\n",
      "\tTraining dataset size (N): 12414\n",
      "\tValidation dataset size (N): 3104\n"
     ]
    }
   ],
   "source": [
    "print('Preprocessing AudioDataset...')\n",
    "dataset = AudioDataset('/cronus_data/rrao/wtc_clinic/whisper_segments_transripts.csv', processor)\n",
    "mini_size = int(0.1 * len(dataset))\n",
    "drop_size = len(dataset) - mini_size\n",
    "mini_dataset, _ = torch.utils.data.random_split(dataset, [mini_size, drop_size])\n",
    "\n",
    "# Calculate lengths for the train/val split (80:20)\n",
    "total_size = len(mini_dataset)\n",
    "train_size = int(0.8 * total_size)  # 80% for training\n",
    "val_size = total_size - train_size  # 20% for validation\n",
    "# Perform the split\n",
    "train_dataset, val_dataset = torch.utils.data.random_split(mini_dataset, [train_size, val_size])\n",
    "print(f'\\tTotal dataset size (N): {total_size}')\n",
    "print(f'\\tTraining dataset size (N): {train_size}')\n",
    "print(f'\\tValidation dataset size (N): {val_size}')"
   ]
  },
  {
   "cell_type": "code",
   "execution_count": 19,
   "metadata": {},
   "outputs": [],
   "source": [
    "data_loader = torch.utils.data.DataLoader(\n",
    "    val_dataset,\n",
    "    batch_size=config.batch_size,\n",
    "    num_workers=config.num_workers,\n",
    "    shuffle=config.shuffle,\n",
    "    collate_fn=collate\n",
    ")"
   ]
  },
  {
   "cell_type": "code",
   "execution_count": 20,
   "metadata": {},
   "outputs": [
    {
     "name": "stdout",
     "output_type": "stream",
     "text": [
      "torch.Size([8, 80, 3000])\n",
      "8\n"
     ]
    }
   ],
   "source": [
    "batch = next(iter(data_loader))\n",
    "print(batch['audio_inputs'].shape)\n",
    "print(len(batch['text']))"
   ]
  },
  {
   "cell_type": "code",
   "execution_count": 25,
   "metadata": {},
   "outputs": [],
   "source": [
    "# Whisper-based tokenization\n",
    "with torch.no_grad():\n",
    "    outputs = processor.tokenizer(\n",
    "        batch['text'],\n",
    "        padding=True,\n",
    "        truncation=True,\n",
    "        max_length=512,\n",
    "        return_tensors='pt'\n",
    "    ).to(config.device)"
   ]
  },
  {
   "cell_type": "code",
   "execution_count": 21,
   "metadata": {},
   "outputs": [],
   "source": [
    "whisper_model = WhisperModel.from_pretrained(\n",
    "    'openai/whisper-small',\n",
    "    cache_dir=CACHE_DIR\n",
    ").to(config.device)"
   ]
  },
  {
   "cell_type": "code",
   "execution_count": 27,
   "metadata": {},
   "outputs": [
    {
     "name": "stderr",
     "output_type": "stream",
     "text": [
      "Passing a tuple of `past_key_values` is deprecated and will be removed in Transformers v4.43.0. You should pass an instance of `EncoderDecoderCache` instead, e.g. `past_key_values=EncoderDecoderCache.from_legacy_cache(past_key_values)`.\n"
     ]
    },
    {
     "data": {
      "text/plain": [
       "torch.Size([8, 24, 768])"
      ]
     },
     "execution_count": 27,
     "metadata": {},
     "output_type": "execute_result"
    }
   ],
   "source": [
    "embs = whisper_model(\n",
    "    batch['audio_inputs'].to(config.device),\n",
    "    decoder_input_ids=outputs['input_ids'],\n",
    "    decoder_attention_mask=outputs['attention_mask']\n",
    ").last_hidden_state\n",
    "embs.shape"
   ]
  },
  {
   "cell_type": "code",
   "execution_count": 22,
   "metadata": {},
   "outputs": [
    {
     "name": "stderr",
     "output_type": "stream",
     "text": [
      "/cronus_data/rrao/conda_envs/speech/lib/python3.10/site-packages/transformers/tokenization_utils_base.py:1601: FutureWarning: `clean_up_tokenization_spaces` was not set. It will be set to `True` by default. This behavior will be depracted in transformers v4.45, and will be then set to `False` by default. For more details check this issue: https://github.com/huggingface/transformers/issues/31884\n",
      "  warnings.warn(\n"
     ]
    },
    {
     "data": {
      "text/plain": [
       "SentenceTransformer(\n",
       "  (0): Transformer({'max_seq_length': 384, 'do_lower_case': False}) with Transformer model: MPNetModel \n",
       "  (1): Pooling({'word_embedding_dimension': 768, 'pooling_mode_cls_token': False, 'pooling_mode_mean_tokens': True, 'pooling_mode_max_tokens': False, 'pooling_mode_mean_sqrt_len_tokens': False, 'pooling_mode_weightedmean_tokens': False, 'pooling_mode_lasttoken': False, 'include_prompt': True})\n",
       "  (2): Normalize()\n",
       ")"
      ]
     },
     "execution_count": 22,
     "metadata": {},
     "output_type": "execute_result"
    }
   ],
   "source": [
    "sbert_model = SentenceTransformer(\n",
    "    'sentence-transformers/all-mpnet-base-v2',\n",
    "    cache_folder=CACHE_DIR,\n",
    "    device=config.device\n",
    ")\n",
    "sbert_model"
   ]
  },
  {
   "cell_type": "code",
   "execution_count": 35,
   "metadata": {},
   "outputs": [
    {
     "ename": "AttributeError",
     "evalue": "'Transformer' object has no attribute 'module'",
     "output_type": "error",
     "traceback": [
      "\u001b[0;31m---------------------------------------------------------------------------\u001b[0m",
      "\u001b[0;31mAttributeError\u001b[0m                            Traceback (most recent call last)",
      "Cell \u001b[0;32mIn[35], line 1\u001b[0m\n\u001b[0;32m----> 1\u001b[0m \u001b[43msbert_model\u001b[49m\u001b[43m[\u001b[49m\u001b[38;5;241;43m0\u001b[39;49m\u001b[43m]\u001b[49m\u001b[38;5;241;43m.\u001b[39;49m\u001b[43mmodule\u001b[49m\n",
      "File \u001b[0;32m/cronus_data/rrao/conda_envs/speech/lib/python3.10/site-packages/torch/nn/modules/module.py:1729\u001b[0m, in \u001b[0;36mModule.__getattr__\u001b[0;34m(self, name)\u001b[0m\n\u001b[1;32m   1727\u001b[0m     \u001b[38;5;28;01mif\u001b[39;00m name \u001b[38;5;129;01min\u001b[39;00m modules:\n\u001b[1;32m   1728\u001b[0m         \u001b[38;5;28;01mreturn\u001b[39;00m modules[name]\n\u001b[0;32m-> 1729\u001b[0m \u001b[38;5;28;01mraise\u001b[39;00m \u001b[38;5;167;01mAttributeError\u001b[39;00m(\u001b[38;5;124mf\u001b[39m\u001b[38;5;124m\"\u001b[39m\u001b[38;5;124m'\u001b[39m\u001b[38;5;132;01m{\u001b[39;00m\u001b[38;5;28mtype\u001b[39m(\u001b[38;5;28mself\u001b[39m)\u001b[38;5;241m.\u001b[39m\u001b[38;5;18m__name__\u001b[39m\u001b[38;5;132;01m}\u001b[39;00m\u001b[38;5;124m'\u001b[39m\u001b[38;5;124m object has no attribute \u001b[39m\u001b[38;5;124m'\u001b[39m\u001b[38;5;132;01m{\u001b[39;00mname\u001b[38;5;132;01m}\u001b[39;00m\u001b[38;5;124m'\u001b[39m\u001b[38;5;124m\"\u001b[39m)\n",
      "\u001b[0;31mAttributeError\u001b[0m: 'Transformer' object has no attribute 'module'"
     ]
    }
   ],
   "source": [
    "sbert_model[0].module"
   ]
  },
  {
   "cell_type": "code",
   "execution_count": 2,
   "metadata": {},
   "outputs": [
    {
     "name": "stderr",
     "output_type": "stream",
     "text": [
      "/cronus_data/rrao/conda_envs/speech/lib/python3.10/site-packages/transformers/tokenization_utils_base.py:1601: FutureWarning: `clean_up_tokenization_spaces` was not set. It will be set to `True` by default. This behavior will be depracted in transformers v4.45, and will be then set to `False` by default. For more details check this issue: https://github.com/huggingface/transformers/issues/31884\n",
      "  warnings.warn(\n"
     ]
    },
    {
     "name": "stdout",
     "output_type": "stream",
     "text": [
      "\n",
      "Available GPU IDs: [0, 1, 2, 3]\n",
      "\tGPU 0: NVIDIA RTX A6000\n",
      "\tGPU 1: NVIDIA RTX A6000\n",
      "\tGPU 2: NVIDIA RTX A6000\n",
      "\tGPU 3: NVIDIA RTX A6000\n",
      "\n"
     ]
    }
   ],
   "source": [
    "config = WhiSBERTConfig(pooling_mode='cls', use_sbert_layers=False, batch_size=8, device='cuda')\n",
    "processor, whisbert, sbert = load_models(config, '')"
   ]
  },
  {
   "cell_type": "code",
   "execution_count": 3,
   "metadata": {},
   "outputs": [
    {
     "name": "stdout",
     "output_type": "stream",
     "text": [
      "Preprocessing AudioDataset...\n",
      "\tTotal dataset size (N): 15518\n",
      "\tTraining dataset size (N): 12414\n",
      "\tValidation dataset size (N): 3104\n"
     ]
    }
   ],
   "source": [
    "print('Preprocessing AudioDataset...')\n",
    "dataset = AudioDataset('/cronus_data/rrao/wtc_clinic/whisper_segments_transripts.csv', whisper_processor)\n",
    "mini_size = int(0.1 * len(dataset))\n",
    "drop_size = len(dataset) - mini_size\n",
    "mini_dataset, _ = torch.utils.data.random_split(dataset, [mini_size, drop_size])\n",
    "\n",
    "# Calculate lengths for the train/val split (80:20)\n",
    "total_size = len(mini_dataset)\n",
    "train_size = int(0.8 * total_size)  # 80% for training\n",
    "val_size = total_size - train_size  # 20% for validation\n",
    "# Perform the split\n",
    "train_dataset, val_dataset = torch.utils.data.random_split(mini_dataset, [train_size, val_size])\n",
    "print(f'\\tTotal dataset size (N): {total_size}')\n",
    "print(f'\\tTraining dataset size (N): {train_size}')\n",
    "print(f'\\tValidation dataset size (N): {val_size}')"
   ]
  },
  {
   "cell_type": "code",
   "execution_count": 4,
   "metadata": {},
   "outputs": [],
   "source": [
    "data_loader = torch.utils.data.DataLoader(val_dataset, batch_size=config.batch_size, num_workers=config.num_workers, shuffle=config.shuffle, collate_fn=collate)"
   ]
  },
  {
   "cell_type": "code",
   "execution_count": 5,
   "metadata": {},
   "outputs": [
    {
     "name": "stdout",
     "output_type": "stream",
     "text": [
      "torch.Size([8, 80, 3000])\n",
      "8\n"
     ]
    }
   ],
   "source": [
    "batch = next(iter(data_loader))\n",
    "print(batch['audio_inputs'].shape)\n",
    "print(len(batch['text']))"
   ]
  },
  {
   "cell_type": "code",
   "execution_count": 25,
   "metadata": {},
   "outputs": [
    {
     "name": "stderr",
     "output_type": "stream",
     "text": [
      "/cronus_data/rrao/conda_envs/speech/lib/python3.10/site-packages/transformers/tokenization_utils_base.py:1601: FutureWarning: `clean_up_tokenization_spaces` was not set. It will be set to `True` by default. This behavior will be depracted in transformers v4.45, and will be then set to `False` by default. For more details check this issue: https://github.com/huggingface/transformers/issues/31884\n",
      "  warnings.warn(\n"
     ]
    },
    {
     "data": {
      "text/plain": [
       "DataParallel(\n",
       "  (module): SentenceTransformer(\n",
       "    (0): Transformer({'max_seq_length': 384, 'do_lower_case': False}) with Transformer model: MPNetModel \n",
       "    (1): Pooling({'word_embedding_dimension': 768, 'pooling_mode_cls_token': False, 'pooling_mode_mean_tokens': True, 'pooling_mode_max_tokens': False, 'pooling_mode_mean_sqrt_len_tokens': False, 'pooling_mode_weightedmean_tokens': False, 'pooling_mode_lasttoken': False, 'include_prompt': True})\n",
       "    (2): Normalize()\n",
       "  )\n",
       ")"
      ]
     },
     "execution_count": 25,
     "metadata": {},
     "output_type": "execute_result"
    }
   ],
   "source": [
    "sbert = SentenceTransformer(\n",
    "    'sentence-transformers/all-mpnet-base-v2',\n",
    "    cache_folder='/cronus_data/rrao/cache',\n",
    "    device='cuda'\n",
    ")\n",
    "sbert = torch.nn.DataParallel(sbert, device_ids=[0, 1, 2, 3])\n",
    "sbert.eval()"
   ]
  },
  {
   "cell_type": "code",
   "execution_count": 23,
   "metadata": {},
   "outputs": [
    {
     "data": {
      "text/plain": [
       "False"
      ]
     },
     "execution_count": 23,
     "metadata": {},
     "output_type": "execute_result"
    }
   ],
   "source": [
    "isinstance(sbert, torch.nn.DataParallel)"
   ]
  },
  {
   "cell_type": "code",
   "execution_count": null,
   "metadata": {},
   "outputs": [],
   "source": [
    "sbert[0]"
   ]
  },
  {
   "cell_type": "code",
   "execution_count": 21,
   "metadata": {},
   "outputs": [
    {
     "name": "stdout",
     "output_type": "stream",
     "text": [
      "tensor([[-0.0131,  0.0750, -0.0033,  ..., -0.0039,  0.0381,  0.0133],\n",
      "        [ 0.0946,  0.0082, -0.0399,  ...,  0.0269,  0.0126,  0.0157],\n",
      "        [-0.0012,  0.0770, -0.0190,  ...,  0.0474,  0.0232,  0.0088],\n",
      "        ...,\n",
      "        [-0.0128,  0.0325, -0.0011,  ...,  0.0261,  0.0054, -0.0362],\n",
      "        [-0.0141,  0.0015,  0.0005,  ...,  0.0501,  0.0182, -0.0013],\n",
      "        [ 0.0190,  0.0469, -0.0361,  ...,  0.0181,  0.0243, -0.0187]])\n",
      "torch.Size([8, 768])\n"
     ]
    }
   ],
   "source": [
    "sbert_embs = torch.tensor(sbert.module.encode(batch['text']))\n",
    "print(sbert_embs)\n",
    "print(sbert_embs.shape)"
   ]
  },
  {
   "cell_type": "code",
   "execution_count": 7,
   "metadata": {},
   "outputs": [
    {
     "name": "stderr",
     "output_type": "stream",
     "text": [
      "/cronus_data/rrao/conda_envs/speech/lib/python3.10/site-packages/transformers/tokenization_utils_base.py:1601: FutureWarning: `clean_up_tokenization_spaces` was not set. It will be set to `True` by default. This behavior will be depracted in transformers v4.45, and will be then set to `False` by default. For more details check this issue: https://github.com/huggingface/transformers/issues/31884\n",
      "  warnings.warn(\n",
      "Some weights of RobertaModel were not initialized from the model checkpoint at FacebookAI/roberta-base and are newly initialized: ['roberta.pooler.dense.bias', 'roberta.pooler.dense.weight']\n",
      "You should probably TRAIN this model on a down-stream task to be able to use it for predictions and inference.\n"
     ]
    }
   ],
   "source": [
    "_, whisbert_untrained, _, _ = load_models(config, '')"
   ]
  },
  {
   "cell_type": "code",
   "execution_count": 8,
   "metadata": {},
   "outputs": [
    {
     "name": "stderr",
     "output_type": "stream",
     "text": [
      "Passing a tuple of `past_key_values` is deprecated and will be removed in Transformers v4.43.0. You should pass an instance of `EncoderDecoderCache` instead, e.g. `past_key_values=EncoderDecoderCache.from_legacy_cache(past_key_values)`.\n"
     ]
    },
    {
     "name": "stdout",
     "output_type": "stream",
     "text": [
      "torch.Size([16, 768])\n"
     ]
    }
   ],
   "source": [
    "whisbert_untrained.eval()\n",
    "\n",
    "with torch.no_grad():\n",
    "    outputs = whisper_processor.tokenizer(\n",
    "        batch['text'],\n",
    "        padding=True,\n",
    "        truncation=True,\n",
    "        max_length=512,\n",
    "        return_tensors='pt'\n",
    "    )\n",
    "    whisbert_u_embs = whisbert_untrained(batch['audio_inputs'], text_input_ids=outputs['input_ids'], text_attention_mask=outputs['attention_mask'])\n",
    "\n",
    "print(whisbert_u_embs.shape)"
   ]
  },
  {
   "cell_type": "code",
   "execution_count": 9,
   "metadata": {},
   "outputs": [
    {
     "name": "stdout",
     "output_type": "stream",
     "text": [
      "torch.Size([16, 768])\n"
     ]
    }
   ],
   "source": [
    "whisbert_trained.eval()\n",
    "\n",
    "with torch.no_grad():\n",
    "    outputs = whisper_processor.tokenizer(\n",
    "        batch['text'],\n",
    "        padding=True,\n",
    "        truncation=True,\n",
    "        max_length=512,\n",
    "        return_tensors='pt'\n",
    "    )\n",
    "    whisbert_t_embs = whisbert_trained(batch['audio_inputs'], text_input_ids=outputs['input_ids'], text_attention_mask=outputs['attention_mask'])\n",
    "\n",
    "print(whisbert_t_embs.shape)"
   ]
  },
  {
   "cell_type": "code",
   "execution_count": 10,
   "metadata": {},
   "outputs": [
    {
     "name": "stdout",
     "output_type": "stream",
     "text": [
      "tensor([[-0.0993,  0.1067,  0.0027,  ..., -0.0902, -0.0371, -0.0233],\n",
      "        [-0.0891,  0.1118,  0.0148,  ..., -0.0653, -0.0502, -0.0265],\n",
      "        [-0.0745,  0.0700, -0.0422,  ..., -0.0651, -0.0402, -0.0374],\n",
      "        ...,\n",
      "        [-0.0815,  0.0782, -0.0371,  ..., -0.0739, -0.0347, -0.0360],\n",
      "        [-0.1056,  0.1056, -0.0154,  ..., -0.0551, -0.0270, -0.0450],\n",
      "        [-0.1187,  0.1556, -0.0052,  ..., -0.1198, -0.0507, -0.0172]])\n",
      "tensor([[ -3.1382,  -1.7092,   9.1477,  ...,   5.5499,   4.3223,  -5.1145],\n",
      "        [ -7.4380,  -4.1652,  -7.2116,  ...,   0.5559,  -4.2234,   5.0763],\n",
      "        [ -6.5615,   4.7952,   9.5207,  ...,   6.2802,   2.1562,  -6.8492],\n",
      "        ...,\n",
      "        [  1.0966,   6.9145,   5.4920,  ...,  -2.4419,   0.1266,  -4.1704],\n",
      "        [ -5.4724,  -2.8005,  -0.5699,  ...,   5.7909,   2.9442,  -3.6782],\n",
      "        [-16.4777,  -0.1498,   1.5240,  ...,   6.9775,  -3.6257,  -0.2927]])\n",
      "tensor([[-1.3900,  1.6551, -0.2166,  ..., -1.0271, -0.7292, -0.6569],\n",
      "        [-1.3900,  1.6543, -0.2206,  ..., -1.0271, -0.7299, -0.6565],\n",
      "        [-1.3905,  1.6551, -0.2174,  ..., -1.0269, -0.7291, -0.6572],\n",
      "        ...,\n",
      "        [-1.3910,  1.6551, -0.2184,  ..., -1.0271, -0.7291, -0.6568],\n",
      "        [-1.3905,  1.6552, -0.2174,  ..., -1.0271, -0.7292, -0.6565],\n",
      "        [-1.3908,  1.6542, -0.2158,  ..., -1.0272, -0.7298, -0.6570]])\n"
     ]
    }
   ],
   "source": [
    "print(roberta_embs)\n",
    "print(whisbert_u_embs)\n",
    "print(whisbert_t_embs)"
   ]
  },
  {
   "cell_type": "code",
   "execution_count": 11,
   "metadata": {},
   "outputs": [
    {
     "data": {
      "image/png": "[encoded data removed]",
      "text/plain": [
       "<Figure size 800x600 with 1 Axes>"
      ]
     },
     "metadata": {},
     "output_type": "display_data"
    }
   ],
   "source": [
    "# Stack embeddings for PCA\n",
    "all_embs = np.vstack([roberta_embs.numpy(), whisbert_u_embs.numpy(), whisbert_t_embs.numpy()])\n",
    "\n",
    "# Apply PCA for dimensionality reduction to 2D\n",
    "pca = PCA(n_components=2)\n",
    "reduced_embs = pca.fit_transform(all_embs)\n",
    "\n",
    "# Split the reduced embeddings\n",
    "reduced_roberta = reduced_embs[:4]\n",
    "reduced_whisbert_u = reduced_embs[4:8]\n",
    "reduced_whisbert_t = reduced_embs[8:]\n",
    "\n",
    "# Create scatter plot\n",
    "plt.figure(figsize=(8, 6))\n",
    "plt.scatter(reduced_roberta[:, 0], reduced_roberta[:, 1], color='blue', label='Roberta')\n",
    "plt.scatter(reduced_whisbert_u[:, 0], reduced_whisbert_u[:, 1], color='red', label='WhisBERT-U')\n",
    "plt.scatter(reduced_whisbert_t[:, 0], reduced_whisbert_t[:, 1], color='orange', label='WhisBERT-T')\n",
    "\n",
    "plt.title(\"PCA Dimensionality Reduction of Embeddings\")\n",
    "plt.legend()\n",
    "plt.xlabel(\"PCA Component 1\")\n",
    "plt.ylabel(\"PCA Component 2\")\n",
    "plt.show()"
   ]
  },
  {
   "cell_type": "code",
   "execution_count": 12,
   "metadata": {},
   "outputs": [
    {
     "data": {
      "image/png": "[encoded data removed]",
      "text/plain": [
       "<Figure size 640x480 with 1 Axes>"
      ]
     },
     "metadata": {},
     "output_type": "display_data"
    }
   ],
   "source": [
    "# Stack embeddings for t-SNE\n",
    "all_embs = np.vstack([roberta_embs.numpy(), whisbert_u_embs.numpy(), whisbert_t_embs.numpy()])\n",
    "\n",
    "# Apply t-SNE for dimensionality reduction\n",
    "tsne = TSNE(n_components=2, random_state=42)\n",
    "reduced_embs = tsne.fit_transform(all_embs)\n",
    "\n",
    "# Split the reduced embeddings\n",
    "reduced_roberta = reduced_embs[:4]\n",
    "reduced_whisbert_u = reduced_embs[4:8]\n",
    "reduced_whisbert_t = reduced_embs[8:]\n",
    "\n",
    "# Create scatter plot\n",
    "# plt.figure(figsize=(8, 6))\n",
    "plt.scatter(reduced_roberta[:, 0], reduced_roberta[:, 1], color='blue', label='Roberta')\n",
    "plt.scatter(reduced_whisbert_u[:, 0], reduced_whisbert_u[:, 1], color='red', label='WhisBERT-U')\n",
    "plt.scatter(reduced_whisbert_t[:, 0], reduced_whisbert_t[:, 1], color='orange', label='WhisBERT-T')\n",
    "\n",
    "plt.title(\"t-SNE Dimensionality Reduction of Embeddings\")\n",
    "plt.legend()\n",
    "plt.xlabel(\"t-SNE Component 1\")\n",
    "plt.ylabel(\"t-SNE Component 2\")\n",
    "plt.show()"
   ]
  }
 ],
 "metadata": {
  "kernelspec": {
   "display_name": "speech",
   "language": "python",
   "name": "python3"
  },
  "language_info": {
   "codemirror_mode": {
    "name": "ipython",
    "version": 3
   },
   "file_extension": ".py",
   "mimetype": "text/x-python",
   "name": "python",
   "nbconvert_exporter": "python",
   "pygments_lexer": "ipython3",
   "version": "3.10.14"
  }
 },
 "nbformat": 4,
 "nbformat_minor": 2
}
